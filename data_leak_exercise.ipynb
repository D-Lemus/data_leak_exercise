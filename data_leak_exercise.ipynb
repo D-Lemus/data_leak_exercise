{
 "cells": [
  {
   "metadata": {},
   "cell_type": "markdown",
   "source": [
    "<div class=\"alert alert-block alert-info\">\n",
    "<span style=\"color: rgb(0,53,91);\">\n",
    "<center><img src=\"https://imgs.search.brave.com/vIujYFx1qV5CoxJb72HNVYIoBXQjuasIvdngB1DPC3s/rs:fit:860:0:0:0/g:ce/aHR0cHM6Ly91cGxv/YWQud2lraW1lZGlh/Lm9yZy93aWtpcGVk/aWEvZW4vdGh1bWIv/NS81Zi9XZXN0ZXJu/X0luc3RpdHV0ZV9v/Zl9UZWNobm9sb2d5/X2FuZF9IaWdoZXJf/RWR1Y2F0aW9uX2xv/Z28ucG5nLzIwMHB4/LVdlc3Rlcm5fSW5z/dGl0dXRlX29mX1Rl/Y2hub2xvZ3lfYW5k/X0hpZ2hlcl9FZHVj/YXRpb25fbG9nby5w/bmc\" style=\"width:180px;height:142px;\" title=\"Logo ITESO\"></center>\n",
    "<font face = \"Times New Roman\" size = \"6\"><b><center>Programacion para Mineria de Datos</center></b></font>\n",
    "<font face = \"Times New Roman\" size = \"5\"><b><center>TAREA: Fuga de Datos</center></b></font>\n",
    "\n",
    "<b><font back = \"Times New Roman\" size = \"4\"><center>Unidad 4: </center></font>\n",
    "<font face = \"Times New Roman\" size = \"4\"><center>Tema 4.3: Integración de Datos: Categóricos, Numéricos, Faltantes y Fuga de Datos</center></font>\n",
    "\n",
    "<b><font back = \"Times New Roman\" size = \"4\"><center>Equipo: </center></font>\n",
    "<font face = \"Times New Roman\" size = \"4\"><center> Diego Lemus, Sebastian Zinchenko, Jersus Vargas </center></font>\n",
    "\n",
    "<div align=\"right\"><font face = \"Times New Roman\" size = \"2\">Mtro. Miguel Tlapa Juarez (migueltlapa@iteso.mx)</font></div>\n",
    "</span></div>\n",
    "\n",
    "\n"
   ],
   "id": "c9c568b3575d268d"
  },
  {
   "metadata": {
    "ExecuteTime": {
     "end_time": "2025-10-12T17:15:20.183754Z",
     "start_time": "2025-10-12T17:15:16.246915Z"
    }
   },
   "cell_type": "code",
   "source": [
    "import numpy as np\n",
    "import pandas as pd\n",
    "import matplotlib.pyplot as plt\n",
    "from numpy.random import RandomState\n",
    "from pandas.core.common import random_state\n",
    "from sklearn.model_selection import train_test_split\n",
    "from sklearn.pipeline import Pipeline\n",
    "from sklearn.compose import ColumnTransformer\n",
    "from sklearn.impute import SimpleImputer\n",
    "from sklearn.preprocessing import OneHotEncoder, OrdinalEncoder, StandardScaler, MinMaxScaler, RobustScaler"
   ],
   "id": "5b6192936dee690b",
   "outputs": [],
   "execution_count": 2
  },
  {
   "metadata": {},
   "cell_type": "markdown",
   "source": "# Cargamos CSV",
   "id": "894e6d19c3d19d9d"
  },
  {
   "metadata": {
    "ExecuteTime": {
     "end_time": "2025-10-12T17:15:27.669842Z",
     "start_time": "2025-10-12T17:15:27.611394Z"
    }
   },
   "cell_type": "code",
   "source": [
    "data = \"data/datos_processing_integration.csv\"\n",
    "df = pd.read_csv(data)\n",
    "print(df.shape)\n",
    "df.head()"
   ],
   "id": "8f85e24c5d631603",
   "outputs": [
    {
     "name": "stdout",
     "output_type": "stream",
     "text": [
      "(120, 12)\n"
     ]
    },
    {
     "data": {
      "text/plain": [
       "       edad  ingreso_mensual  talla_cm  peso_kg  temperatura_c  \\\n",
       "0  2.152350        32.363455      73.0     17.0    1344.359160   \n",
       "1  7.527457              NaN     610.0      5.0    1034.626809   \n",
       "2  3.258677        43.865147     421.0     11.0    1301.186344   \n",
       "3  4.481654        76.347980     200.0      6.0    1494.730860   \n",
       "4       NaN        62.913846     307.0     18.0     856.347865   \n",
       "\n",
       "   frecuencia_cardiaca ciudad tipo_servicio  nivel codigo_serie referencia  \\\n",
       "0                  NaN      A          azul   bajo          NaN       tagD   \n",
       "1             0.349578    NaN         verde  medio            X        NaN   \n",
       "2             1.084957      A          rojo   bajo            Z       tagB   \n",
       "3             0.343660      A          rojo   alto            Z       tagD   \n",
       "4             0.543502      A           NaN  medio            Z       tagC   \n",
       "\n",
       "   sensor_defectuoso  \n",
       "0          74.193076  \n",
       "1                NaN  \n",
       "2                NaN  \n",
       "3                NaN  \n",
       "4                NaN  "
      ],
      "text/html": [
       "<div>\n",
       "<style scoped>\n",
       "    .dataframe tbody tr th:only-of-type {\n",
       "        vertical-align: middle;\n",
       "    }\n",
       "\n",
       "    .dataframe tbody tr th {\n",
       "        vertical-align: top;\n",
       "    }\n",
       "\n",
       "    .dataframe thead th {\n",
       "        text-align: right;\n",
       "    }\n",
       "</style>\n",
       "<table border=\"1\" class=\"dataframe\">\n",
       "  <thead>\n",
       "    <tr style=\"text-align: right;\">\n",
       "      <th></th>\n",
       "      <th>edad</th>\n",
       "      <th>ingreso_mensual</th>\n",
       "      <th>talla_cm</th>\n",
       "      <th>peso_kg</th>\n",
       "      <th>temperatura_c</th>\n",
       "      <th>frecuencia_cardiaca</th>\n",
       "      <th>ciudad</th>\n",
       "      <th>tipo_servicio</th>\n",
       "      <th>nivel</th>\n",
       "      <th>codigo_serie</th>\n",
       "      <th>referencia</th>\n",
       "      <th>sensor_defectuoso</th>\n",
       "    </tr>\n",
       "  </thead>\n",
       "  <tbody>\n",
       "    <tr>\n",
       "      <th>0</th>\n",
       "      <td>2.152350</td>\n",
       "      <td>32.363455</td>\n",
       "      <td>73.0</td>\n",
       "      <td>17.0</td>\n",
       "      <td>1344.359160</td>\n",
       "      <td>NaN</td>\n",
       "      <td>A</td>\n",
       "      <td>azul</td>\n",
       "      <td>bajo</td>\n",
       "      <td>NaN</td>\n",
       "      <td>tagD</td>\n",
       "      <td>74.193076</td>\n",
       "    </tr>\n",
       "    <tr>\n",
       "      <th>1</th>\n",
       "      <td>7.527457</td>\n",
       "      <td>NaN</td>\n",
       "      <td>610.0</td>\n",
       "      <td>5.0</td>\n",
       "      <td>1034.626809</td>\n",
       "      <td>0.349578</td>\n",
       "      <td>NaN</td>\n",
       "      <td>verde</td>\n",
       "      <td>medio</td>\n",
       "      <td>X</td>\n",
       "      <td>NaN</td>\n",
       "      <td>NaN</td>\n",
       "    </tr>\n",
       "    <tr>\n",
       "      <th>2</th>\n",
       "      <td>3.258677</td>\n",
       "      <td>43.865147</td>\n",
       "      <td>421.0</td>\n",
       "      <td>11.0</td>\n",
       "      <td>1301.186344</td>\n",
       "      <td>1.084957</td>\n",
       "      <td>A</td>\n",
       "      <td>rojo</td>\n",
       "      <td>bajo</td>\n",
       "      <td>Z</td>\n",
       "      <td>tagB</td>\n",
       "      <td>NaN</td>\n",
       "    </tr>\n",
       "    <tr>\n",
       "      <th>3</th>\n",
       "      <td>4.481654</td>\n",
       "      <td>76.347980</td>\n",
       "      <td>200.0</td>\n",
       "      <td>6.0</td>\n",
       "      <td>1494.730860</td>\n",
       "      <td>0.343660</td>\n",
       "      <td>A</td>\n",
       "      <td>rojo</td>\n",
       "      <td>alto</td>\n",
       "      <td>Z</td>\n",
       "      <td>tagD</td>\n",
       "      <td>NaN</td>\n",
       "    </tr>\n",
       "    <tr>\n",
       "      <th>4</th>\n",
       "      <td>NaN</td>\n",
       "      <td>62.913846</td>\n",
       "      <td>307.0</td>\n",
       "      <td>18.0</td>\n",
       "      <td>856.347865</td>\n",
       "      <td>0.543502</td>\n",
       "      <td>A</td>\n",
       "      <td>NaN</td>\n",
       "      <td>medio</td>\n",
       "      <td>Z</td>\n",
       "      <td>tagC</td>\n",
       "      <td>NaN</td>\n",
       "    </tr>\n",
       "  </tbody>\n",
       "</table>\n",
       "</div>"
      ]
     },
     "execution_count": 3,
     "metadata": {},
     "output_type": "execute_result"
    }
   ],
   "execution_count": 3
  },
  {
   "metadata": {},
   "cell_type": "markdown",
   "source": "# Splitting",
   "id": "6884d7d1b5d06508"
  },
  {
   "metadata": {
    "ExecuteTime": {
     "end_time": "2025-10-12T17:23:49.615667Z",
     "start_time": "2025-10-12T17:23:49.608554Z"
    }
   },
   "cell_type": "code",
   "source": [
    "#Traning environment with a random splitting and then shuffle them\n",
    "X_train, X_test = train_test_split(df, random_state=12, shuffle=True)\n",
    "\n",
    "#Including numbers from our new list\n",
    "num_cols = X_train.select_dtypes(include=np.number).columns.tolist()\n",
    "#Excluding numbers from our new list\n",
    "cat_cols = X_train.select_dtypes(exclude=np.number).columns.tolist()\n",
    "\n",
    "print(f\"num: {num_cols}\")\n",
    "print(f\"num: {cat_cols}\")"
   ],
   "id": "aee1a9cd8520f4b9",
   "outputs": [
    {
     "name": "stdout",
     "output_type": "stream",
     "text": [
      "num: ['edad', 'ingreso_mensual', 'talla_cm', 'peso_kg', 'temperatura_c', 'frecuencia_cardiaca', 'sensor_defectuoso']\n",
      "num: ['ciudad', 'tipo_servicio', 'nivel', 'codigo_serie', 'referencia']\n"
     ]
    }
   ],
   "execution_count": 10
  },
  {
   "metadata": {},
   "cell_type": "markdown",
   "source": "",
   "id": "2bf02ff2d8707802"
  }
 ],
 "metadata": {
  "kernelspec": {
   "display_name": "Python 3",
   "language": "python",
   "name": "python3"
  },
  "language_info": {
   "codemirror_mode": {
    "name": "ipython",
    "version": 2
   },
   "file_extension": ".py",
   "mimetype": "text/x-python",
   "name": "python",
   "nbconvert_exporter": "python",
   "pygments_lexer": "ipython2",
   "version": "2.7.6"
  }
 },
 "nbformat": 4,
 "nbformat_minor": 5
}
